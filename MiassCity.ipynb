{
 "cells": [
  {
   "cell_type": "code",
   "execution_count": 1,
   "id": "d8cf0590-f0ef-479d-865e-c800f6b9e907",
   "metadata": {},
   "outputs": [
    {
     "name": "stdout",
     "output_type": "stream",
     "text": [
      "Collecting requests==2.28.1 (from -r requirements.txt (line 1))\n",
      "  Using cached requests-2.28.1-py3-none-any.whl (62 kB)\n",
      "Collecting rpyc==5.1.0 (from -r requirements.txt (line 2))\n",
      "  Using cached rpyc-5.1.0-py3-none-any.whl (69 kB)\n",
      "Collecting Rtree==1.0.1 (from -r requirements.txt (line 3))\n",
      "  Using cached Rtree-1.0.1-cp39-cp39-macosx_10_9_x86_64.whl (814 kB)\n",
      "Collecting scipy==1.5.4 (from -r requirements.txt (line 4))\n",
      "  Using cached scipy-1.5.4-cp39-cp39-macosx_10_9_x86_64.whl (29.1 MB)\n",
      "Collecting Shapely==1.8.4 (from -r requirements.txt (line 5))\n",
      "  Using cached Shapely-1.8.4-cp39-cp39-macosx_10_9_x86_64.whl (1.2 MB)\n",
      "Collecting coloredlogs==15.0.1 (from -r requirements.txt (line 6))\n",
      "  Using cached coloredlogs-15.0.1-py2.py3-none-any.whl (46 kB)\n",
      "Collecting fastapi==0.87.0 (from -r requirements.txt (line 7))\n",
      "  Using cached fastapi-0.87.0-py3-none-any.whl (55 kB)\n",
      "Collecting scikit-learn==1.1.3 (from -r requirements.txt (line 8))\n",
      "  Using cached scikit_learn-1.1.3-cp39-cp39-macosx_10_9_x86_64.whl (8.7 MB)\n",
      "Collecting SQLAlchemy==1.4.25 (from -r requirements.txt (line 9))\n",
      "  Using cached SQLAlchemy-1.4.25-cp39-cp39-macosx_10_14_x86_64.whl (1.5 MB)\n",
      "Collecting geojson_pydantic==0.3.3 (from -r requirements.txt (line 10))\n",
      "  Using cached geojson-pydantic-0.3.3.tar.gz (8.6 kB)\n",
      "  Installing build dependencies ... \u001b[?25ldone\n",
      "\u001b[?25h  Getting requirements to build wheel ... \u001b[?25ldone\n",
      "\u001b[?25h  Preparing metadata (pyproject.toml) ... \u001b[?25ldone\n",
      "\u001b[?25hCollecting geopandas==0.12.1 (from -r requirements.txt (line 11))\n",
      "  Using cached geopandas-0.12.1-py3-none-any.whl (1.1 MB)\n",
      "Collecting joblib==1.1.0 (from -r requirements.txt (line 12))\n",
      "  Using cached joblib-1.1.0-py2.py3-none-any.whl (306 kB)\n",
      "Collecting jsonschema==3.2.0 (from -r requirements.txt (line 13))\n",
      "  Using cached jsonschema-3.2.0-py2.py3-none-any.whl (56 kB)\n",
      "Collecting matplotlib==3.6.1 (from -r requirements.txt (line 14))\n",
      "  Using cached matplotlib-3.6.1-cp39-cp39-macosx_10_12_x86_64.whl (7.3 MB)\n",
      "Collecting momepy==0.5.3 (from -r requirements.txt (line 15))\n",
      "  Using cached momepy-0.5.3-py3-none-any.whl (243 kB)\n",
      "Collecting networkit==10.0 (from -r requirements.txt (line 16))\n",
      "  Using cached networkit-10.0-cp39-cp39-macosx_10_9_x86_64.whl (7.4 MB)\n",
      "Collecting networkx==2.8.7 (from -r requirements.txt (line 17))\n",
      "  Using cached networkx-2.8.7-py3-none-any.whl (2.0 MB)\n",
      "Collecting numpy==1.22.4 (from -r requirements.txt (line 18))\n",
      "  Using cached numpy-1.22.4-cp39-cp39-macosx_10_15_x86_64.whl (17.7 MB)\n",
      "Collecting osm2geojson==0.2.0 (from -r requirements.txt (line 19))\n",
      "  Using cached osm2geojson-0.2.0.tar.gz (13 kB)\n",
      "  Installing build dependencies ... \u001b[?25ldone\n",
      "\u001b[?25h  Getting requirements to build wheel ... \u001b[?25ldone\n",
      "\u001b[?25h  Preparing metadata (pyproject.toml) ... \u001b[?25ldone\n",
      "\u001b[?25hCollecting osmnx==1.2.2 (from -r requirements.txt (line 20))\n",
      "  Using cached osmnx-1.2.2-py2.py3-none-any.whl (92 kB)\n",
      "Collecting pandas==1.5.1 (from -r requirements.txt (line 21))\n",
      "  Using cached pandas-1.5.1-cp39-cp39-macosx_10_9_x86_64.whl (12.1 MB)\n",
      "Collecting pca==2.0.5 (from -r requirements.txt (line 22))\n",
      "  Using cached pca-2.0.5-py3-none-any.whl.metadata (10 kB)\n",
      "Collecting PuLP==2.6.0 (from -r requirements.txt (line 23))\n",
      "  Using cached PuLP-2.6.0-py3-none-any.whl (14.2 MB)\n",
      "Collecting pydantic==1.9.1 (from -r requirements.txt (line 24))\n",
      "  Using cached pydantic-1.9.1-cp39-cp39-macosx_10_9_x86_64.whl (3.0 MB)\n",
      "Collecting pyproj==3.4.0 (from -r requirements.txt (line 25))\n",
      "  Using cached pyproj-3.4.0-cp39-cp39-macosx_10_9_x86_64.whl (8.0 MB)\n",
      "Collecting pytest==7.1.1 (from -r requirements.txt (line 26))\n",
      "  Using cached pytest-7.1.1-py3-none-any.whl (297 kB)\n",
      "Collecting psycopg2==2.9.3 (from -r requirements.txt (line 27))\n",
      "  Using cached psycopg2-2.9.3.tar.gz (380 kB)\n",
      "  Installing build dependencies ... \u001b[?25ldone\n",
      "\u001b[?25h  Getting requirements to build wheel ... \u001b[?25lerror\n",
      "  \u001b[1;31merror\u001b[0m: \u001b[1msubprocess-exited-with-error\u001b[0m\n",
      "  \n",
      "  \u001b[31m×\u001b[0m \u001b[32mGetting requirements to build wheel\u001b[0m did not run successfully.\n",
      "  \u001b[31m│\u001b[0m exit code: \u001b[1;36m1\u001b[0m\n",
      "  \u001b[31m╰─>\u001b[0m \u001b[31m[35 lines of output]\u001b[0m\n",
      "  \u001b[31m   \u001b[0m /private/var/folders/bx/v3mbx_q14t33bw38fmk9hxq00000gn/T/pip-build-env-2ntvi27x/overlay/lib/python3.9/site-packages/setuptools/config/setupcfg.py:293: _DeprecatedConfig: Deprecated config in `setup.cfg`\n",
      "  \u001b[31m   \u001b[0m !!\n",
      "  \u001b[31m   \u001b[0m \n",
      "  \u001b[31m   \u001b[0m         ********************************************************************************\n",
      "  \u001b[31m   \u001b[0m         The license_file parameter is deprecated, use license_files instead.\n",
      "  \u001b[31m   \u001b[0m \n",
      "  \u001b[31m   \u001b[0m         This deprecation is overdue, please update your project and remove deprecated\n",
      "  \u001b[31m   \u001b[0m         calls to avoid build errors in the future.\n",
      "  \u001b[31m   \u001b[0m \n",
      "  \u001b[31m   \u001b[0m         See https://setuptools.pypa.io/en/latest/userguide/declarative_config.html for details.\n",
      "  \u001b[31m   \u001b[0m         ********************************************************************************\n",
      "  \u001b[31m   \u001b[0m \n",
      "  \u001b[31m   \u001b[0m !!\n",
      "  \u001b[31m   \u001b[0m   parsed = self.parsers.get(option_name, lambda x: x)(value)\n",
      "  \u001b[31m   \u001b[0m running egg_info\n",
      "  \u001b[31m   \u001b[0m writing psycopg2.egg-info/PKG-INFO\n",
      "  \u001b[31m   \u001b[0m writing dependency_links to psycopg2.egg-info/dependency_links.txt\n",
      "  \u001b[31m   \u001b[0m writing top-level names to psycopg2.egg-info/top_level.txt\n",
      "  \u001b[31m   \u001b[0m \n",
      "  \u001b[31m   \u001b[0m Error: pg_config executable not found.\n",
      "  \u001b[31m   \u001b[0m \n",
      "  \u001b[31m   \u001b[0m pg_config is required to build psycopg2 from source.  Please add the directory\n",
      "  \u001b[31m   \u001b[0m containing pg_config to the $PATH or specify the full executable path with the\n",
      "  \u001b[31m   \u001b[0m option:\n",
      "  \u001b[31m   \u001b[0m \n",
      "  \u001b[31m   \u001b[0m     python setup.py build_ext --pg-config /path/to/pg_config build ...\n",
      "  \u001b[31m   \u001b[0m \n",
      "  \u001b[31m   \u001b[0m or with the pg_config option in 'setup.cfg'.\n",
      "  \u001b[31m   \u001b[0m \n",
      "  \u001b[31m   \u001b[0m If you prefer to avoid building psycopg2 from source, please install the PyPI\n",
      "  \u001b[31m   \u001b[0m 'psycopg2-binary' package instead.\n",
      "  \u001b[31m   \u001b[0m \n",
      "  \u001b[31m   \u001b[0m For further information please check the 'doc/src/install.rst' file (also at\n",
      "  \u001b[31m   \u001b[0m <https://www.psycopg.org/docs/install.html>).\n",
      "  \u001b[31m   \u001b[0m \n",
      "  \u001b[31m   \u001b[0m \u001b[31m[end of output]\u001b[0m\n",
      "  \n",
      "  \u001b[1;35mnote\u001b[0m: This error originates from a subprocess, and is likely not a problem with pip.\n",
      "\u001b[?25h\u001b[1;31merror\u001b[0m: \u001b[1msubprocess-exited-with-error\u001b[0m\n",
      "\n",
      "\u001b[31m×\u001b[0m \u001b[32mGetting requirements to build wheel\u001b[0m did not run successfully.\n",
      "\u001b[31m│\u001b[0m exit code: \u001b[1;36m1\u001b[0m\n",
      "\u001b[31m╰─>\u001b[0m See above for output.\n",
      "\n",
      "\u001b[1;35mnote\u001b[0m: This error originates from a subprocess, and is likely not a problem with pip.\n",
      "Note: you may need to restart the kernel to use updated packages.\n"
     ]
    }
   ],
   "source": [
    "pip install -r requirements.txt"
   ]
  },
  {
   "cell_type": "code",
   "execution_count": 2,
   "id": "d1c41dbe-53f6-41d0-b8ca-e53eea1d3f91",
   "metadata": {},
   "outputs": [],
   "source": [
    "import sys \n",
    "import os\n",
    "import numpy as nр\n",
    "import pandas as pd\n",
    "\n"
   ]
  },
  {
   "cell_type": "code",
   "execution_count": 3,
   "id": "9e495b9b-5765-4bc3-ad24-fdd2eec3fa70",
   "metadata": {},
   "outputs": [],
   "source": [
    "# path to folder to CityGeoTools\n",
    "folder = \"/Users/lizzy/Documents/ИТМО/Прикладные методы анализа ГД/Online/CityGeoTools-master\" \n",
    "sys.path.append(folder)"
   ]
  },
  {
   "cell_type": "code",
   "execution_count": 4,
   "id": "9caad134-13c0-4778-afdb-2ad793f3d9e1",
   "metadata": {},
   "outputs": [
    {
     "name": "stdout",
     "output_type": "stream",
     "text": [
      "None\n"
     ]
    }
   ],
   "source": [
    "from metrics.data import CityInformationModel as BaseModel\n",
    "#from metrics.calculations import CityMetricsMethods as CityMetrics\n",
    "\n",
    "city_model = BaseModel.CityInformationModel(city_name=\"Miass\", city_crs=32641, cwd=\"../\")\n",
    "print(city_model.Buildings)"
   ]
  },
  {
   "cell_type": "code",
   "execution_count": 5,
   "id": "c003ed59-0663-4387-9233-3f948b479001",
   "metadata": {},
   "outputs": [
    {
     "name": "stdout",
     "output_type": "stream",
     "text": [
      "<metrics.data.CityInformationModel.CityInformationModel object at 0x7fc94130cb50>\n"
     ]
    }
   ],
   "source": [
    "print(city_model)"
   ]
  },
  {
   "cell_type": "code",
   "execution_count": null,
   "id": "aedd08a8-5b28-46a7-8aad-732dbabe2217",
   "metadata": {},
   "outputs": [],
   "source": []
  }
 ],
 "metadata": {
  "kernelspec": {
   "display_name": "Python 3 (ipykernel)",
   "language": "python",
   "name": "python3"
  },
  "language_info": {
   "codemirror_mode": {
    "name": "ipython",
    "version": 3
   },
   "file_extension": ".py",
   "mimetype": "text/x-python",
   "name": "python",
   "nbconvert_exporter": "python",
   "pygments_lexer": "ipython3",
   "version": "3.9.0"
  }
 },
 "nbformat": 4,
 "nbformat_minor": 5
}
